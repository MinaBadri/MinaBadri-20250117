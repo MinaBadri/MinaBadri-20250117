{
 "cells": [
  {
   "cell_type": "code",
   "execution_count": 1,
   "metadata": {},
   "outputs": [],
   "source": [
    "import numpy as np\n",
    "import pandas as pd\n",
    "import matplotlib.pyplot as plt\n",
    "import seaborn as sns\n"
   ]
  },
  {
   "cell_type": "code",
   "execution_count": 56,
   "metadata": {},
   "outputs": [],
   "source": [
    "orders_file = pd.read_parquet('Data/orders.parquet')\n",
    "orders_file.head()\n"
   ]
  },
  {
   "cell_type": "code",
   "execution_count": null,
   "metadata": {},
   "outputs": [],
   "source": [
    "orders_file.columns"
   ]
  },
  {
   "cell_type": "code",
   "execution_count": 58,
   "metadata": {},
   "outputs": [],
   "source": [
    "# X = orders_file['currency'].unique().tolist()\n",
    "# print(X)\n",
    "# ['Euro', 'Australian Dollar', 'Brazilian Real', 'US Dollar', 'Danish Krone', 'Saudi Riyal', 'Mexican Peso', 'Pound Sterling', 'Zloty', \n",
    "#  'Norwegian Krone', 'Canadian Dollar', 'United Arab Emirates dirham', 'Swedish Krona', 'Chilean Peso', 'Peso Uruguayo', 'Nuevo Sol Peru', \n",
    "#  'South Korean Won', 'Malaysian Ringgit', 'Argentine Peso', 'Thai Baht', 'Czech Koruna', 'Colombian Peso Colombia', 'Kuwaiti Dinar', 'Swiss Franc', \n",
    "#  'Hryvnia Ukraine', 'South African Rand', 'Japanese yen', 'Jordanian Dinar', 'Bahraini Dinar', 'New Zealand Dollar', 'Indian Rupee', 'Egyptian Pound', \n",
    "#  'Bulgarian Lev', 'Rupiah Indonesia', 'Turkish Lira', 'Qatari Rial', 'Singapore Dollar', 'Hong Kong Dollar', 'Philippine Peso', 'New Taiwan Dollar', \n",
    "#  'Rial Omani Oman', 'Forint', 'Yuan Renminbi', \n",
    "#  'Vietnamese dong', 'Iceland Krona', 'Tenge Kazakhstan', 'Uzbekistan Som']\n",
    "\n",
    "\n",
    "\n",
    "currency_name_to_code = {\n",
    "    'Euro': 'EUR',\n",
    "    'Australian Dollar': 'AUD',\n",
    "    'Brazilian Real': 'BRL',\n",
    "    'US Dollar': 'USD',\n",
    "    'Danish Krone': 'DKK',\n",
    "    'Saudi Riyal': 'SAR',\n",
    "    'Mexican Peso': 'MXN',\n",
    "    'Pound Sterling': 'GBP',\n",
    "    'Zloty': 'PLN',\n",
    "    'Norwegian Krone': 'NOK',\n",
    "    'Canadian Dollar': 'CAD',\n",
    "    'United Arab Emirates dirham': 'AED',\n",
    "    'Swedish Krona': 'SEK',\n",
    "    'Chilean Peso': 'CLP',\n",
    "    'Peso Uruguayo': 'UYU',\n",
    "    'Nuevo Sol Peru': 'PEN',\n",
    "    'South Korean Won': 'KRW',\n",
    "    'Malaysian Ringgit': 'MYR',\n",
    "    'Argentine Peso': 'ARS',\n",
    "    'Thai Baht': 'THB',\n",
    "    'Czech Koruna': 'CZK',\n",
    "    'Colombian Peso Colombia': 'COP',\n",
    "    'Kuwaiti Dinar': 'KWD',\n",
    "    'Swiss Franc': 'CHF',\n",
    "    'Hryvnia Ukraine': 'UAH',\n",
    "    'South African Rand': 'ZAR',\n",
    "    'Japanese yen': 'JPY',\n",
    "    'Jordanian Dinar': 'JOD',\n",
    "    'Bahraini Dinar': 'BHD',\n",
    "    'New Zealand Dollar': 'NZD',\n",
    "    'Indian Rupee': 'INR',\n",
    "    'Egyptian Pound': 'EGP',\n",
    "    'Bulgarian Lev': 'BGN',\n",
    "    'Rupiah Indonesia': 'IDR',\n",
    "    'Turkish Lira': 'TRY',\n",
    "    'Qatari Rial': 'QAR',\n",
    "    'Singapore Dollar': 'SGD',\n",
    "    'Hong Kong Dollar': 'HKD',\n",
    "    'Philippine Peso': 'PHP',\n",
    "    'New Taiwan Dollar': 'TWD',\n",
    "    'Rial Omani Oman': 'OMR',\n",
    "    'Forint': 'HUF',\n",
    "    'Yuan Renminbi': 'CNY',\n",
    "    'Vietnamese dong': 'VND',\n",
    "    'Iceland Krona': 'ISK',\n",
    "    'Tenge Kazakhstan': 'KZT',\n",
    "    'Uzbekistan Som': 'UZS'\n",
    "}\n",
    "#Static exchange rate, in actual analysis it has to be updated so it uses API, easy-exchange-rates and forex-python has been tried so far, \n",
    "#Read their documentationss to see why the exchange has problems. \n",
    "exchange_rates_to_usd = {\n",
    "    'USD': 1,\n",
    "    'EUR': 1.08,\n",
    "    'AUD': 0.64,\n",
    "    'BRL': 0.19,\n",
    "    'DKK': 0.14,\n",
    "    'SAR': 0.27,\n",
    "    'MXN': 0.052,\n",
    "    'GBP': 1.37,\n",
    "    'PLN': 0.26,\n",
    "    'NOK': 0.11,\n",
    "    'CAD': 0.75,\n",
    "    'AED': 0.27,\n",
    "    'SEK': 0.095,\n",
    "    'CLP': 0.0012,\n",
    "    'UYU': 0.023,\n",
    "    'PEN': 0.27,\n",
    "    'KRW': 0.00076,\n",
    "    'MYR': 0.23,\n",
    "    'ARS': 0.010,\n",
    "    'THB': 0.032,\n",
    "    'CZK': 0.048,\n",
    "    'COP': 0.00026,\n",
    "    'KWD': 3.28,\n",
    "    'CHF': 1.09,\n",
    "    'UAH': 0.036,\n",
    "    'ZAR': 0.055,\n",
    "    'JPY': 0.0074,\n",
    "    'JOD': 1.41,\n",
    "    'BHD': 2.65,\n",
    "    'NZD': 0.63,\n",
    "    'INR': 0.013,\n",
    "    'EGP': 0.032,\n",
    "    'BGN': 0.58,\n",
    "    'IDR': 0.000066,\n",
    "    'TRY': 0.054,\n",
    "    'QAR': 0.27,\n",
    "    'SGD': 0.74,\n",
    "    'HKD': 0.13,\n",
    "    'PHP': 0.018,\n",
    "    'TWD': 0.032,\n",
    "    'OMR': 2.60,\n",
    "    'HUF': 0.0031,\n",
    "    'CNY': 0.15,\n",
    "    'VND': 0.000043,\n",
    "    'ISK': 0.0075,\n",
    "    'KZT': 0.0023,\n",
    "    'UZS': 0.000091\n",
    "}\n",
    "\n",
    "\n",
    "\n",
    "def convert_prices_to_usd(df):\n",
    "    \n",
    "    df['currency_code'] = df['currency'].map(currency_name_to_code)\n",
    "\n",
    "    currency_index = df.columns.get_loc('currency')  \n",
    "    df.insert(currency_index + 1, 'currency_code', df.pop('currency_code'))\n",
    "\n",
    "    # Check for unmapped currencies\n",
    "    unmapped = df[df['currency_code'].isna()]['currency'].unique()\n",
    "    if len(unmapped) > 0:\n",
    "        print(\"Unmapped currencies:\", unmapped)\n",
    "\n",
    "    \n",
    "    df['Order_Amount_in_usd'] = df.apply(\n",
    "        lambda row: row['Order_Amount'] * exchange_rates_to_usd.get(row['currency_code'], 0) if row['currency_code'] in exchange_rates_to_usd else 0,\n",
    "        axis=1\n",
    "    )\n",
    "    \n",
    "    price_index = df.columns.get_loc('Order_Amount')\n",
    "    df.insert(price_index + 1, 'Order_Amount_in_usd', df.pop('Order_Amount_in_usd'))\n",
    "\n",
    "    df['Revenue_in_usd'] = df.apply(\n",
    "        lambda row: row['Revenue'] * exchange_rates_to_usd.get(row['currency_code'], 0) if row['currency_code'] in exchange_rates_to_usd else 0,\n",
    "        axis=1\n",
    "    )\n",
    "    \n",
    "    price_index = df.columns.get_loc('Revenue')\n",
    "    df.insert(price_index + 1, 'Revenue_in_usd', df.pop('Revenue_in_usd'))\n",
    "\n",
    "    return df\n",
    "\n",
    "\n",
    "orders_file = convert_prices_to_usd(orders_file)"
   ]
  },
  {
   "cell_type": "code",
   "execution_count": null,
   "metadata": {},
   "outputs": [],
   "source": [
    "orders_file['Is_Canceled'].value_counts()"
   ]
  },
  {
   "cell_type": "code",
   "execution_count": null,
   "metadata": {},
   "outputs": [],
   "source": [
    "counts = orders_file['Is_Canceled'].value_counts()\n",
    "canceled_percentage = counts.get(1,0) / counts.get(0,1) * 100\n",
    "\n",
    "print(f\"{canceled_percentage:.2f}% of orders are canceled\")"
   ]
  },
  {
   "cell_type": "code",
   "execution_count": null,
   "metadata": {},
   "outputs": [],
   "source": [
    "counts = orders_file['Is_Changed'].value_counts()\n",
    "changed_percentage = counts.get(1,0) / counts.get(0,1) * 100\n",
    "\n",
    "print(f\"{changed_percentage:.2f}% of orders are changed\")"
   ]
  },
  {
   "cell_type": "code",
   "execution_count": null,
   "metadata": {},
   "outputs": [],
   "source": [
    "orders_file.loc[orders_file['Is_Canceled'] == 1, 'cancel_reason'].unique()"
   ]
  },
  {
   "cell_type": "code",
   "execution_count": null,
   "metadata": {},
   "outputs": [],
   "source": [
    "canceled_value_counts = orders_file.loc[orders_file['Is_Canceled'] == 1, 'cancel_reason'].value_counts()\n",
    "\n",
    "threshold = canceled_value_counts.sum() * 0.02\n",
    "\n",
    "canceled_counts = canceled_value_counts[canceled_value_counts > threshold]\n",
    "\n",
    "other_count = orders_file[(orders_file['Is_Canceled'] == 1) & ~orders_file['cancel_reason'].isin(canceled_counts.index)]['cancel_reason'].count()\n",
    "canceled_counts['Other reasons'] = other_count\n",
    "canceled_counts['Other reasons']\n",
    "\n",
    "plt.figure(figsize=(8, 8))\n",
    "plt.pie(canceled_counts, labels=canceled_counts.index, autopct='%1.1f%%', startangle=90)\n",
    "plt.title(\"Distribution of cancelation reason\")\n",
    "plt.axis('equal')  \n",
    "plt.show()\n",
    "\n"
   ]
  },
  {
   "cell_type": "code",
   "execution_count": null,
   "metadata": {},
   "outputs": [],
   "source": [
    "orders_file.columns"
   ]
  },
  {
   "cell_type": "code",
   "execution_count": null,
   "metadata": {},
   "outputs": [],
   "source": [
    "changed_value_counts = orders_file.loc[orders_file['Is_Changed'] == 1, 'change_reason'].value_counts()\n",
    "\n",
    "threshold = changed_value_counts.sum() * 0.02\n",
    "\n",
    "changed_counts = changed_value_counts[changed_value_counts > threshold]\n",
    "\n",
    "other_count = orders_file[(orders_file['Is_Changed'] == 1) & ~orders_file['change_reason'].isin(changed_counts.index)]['change_reason'].count()\n",
    "changed_counts['Other reasons'] = other_count\n",
    "changed_counts['Other reasons']\n",
    "\n",
    "plt.figure(figsize=(8, 8))\n",
    "plt.pie(changed_counts, labels=changed_counts.index, autopct='%1.1f%%', startangle=90)\n",
    "plt.title(\"Distribution of changes on Orders\")\n",
    "plt.axis('equal')  \n",
    "plt.show()\n",
    "\n"
   ]
  },
  {
   "cell_type": "markdown",
   "metadata": {
    "cell_type": "hint"
   },
   "source": [
    "### Which country is the on top of the origin country `Origin_Country`?"
   ]
  },
  {
   "cell_type": "code",
   "execution_count": null,
   "metadata": {
    "cell_type": "solution"
   },
   "outputs": [],
   "source": [
    "top_tourists = orders_file['Origin_Country'].value_counts().head(1)\n",
    "\n",
    "origin_name = top_tourists.index[0]\n",
    "origin_count = top_tourists.values[0]\n",
    "\n",
    "\n",
    "print(f\"Most travels start from: {origin_name} with {origin_count} number\")"
   ]
  },
  {
   "cell_type": "markdown",
   "metadata": {},
   "source": [
    "### Which country is The most attractive destination"
   ]
  },
  {
   "cell_type": "code",
   "execution_count": null,
   "metadata": {},
   "outputs": [],
   "source": [
    "most_attractive = orders_file['Destination_Country'].value_counts().head(1)\n",
    "\n",
    "destination_name = most_attractive.index[0]\n",
    "destination_count = most_attractive.values[0]\n",
    "\n",
    "\n",
    "print(f\"The most attractive destination is: {destination_name} with {destination_count} visits\")"
   ]
  },
  {
   "cell_type": "code",
   "execution_count": null,
   "metadata": {
    "cell_type": "solution"
   },
   "outputs": [],
   "source": [
    " \n",
    "average_price_per_country = orders_file.groupby('Site_Country')['Order_Amount_in_usd'].mean()\n",
    "\n",
    "highest_order_country = average_price_per_country.idxmax()\n",
    "highest_average_order = average_price_per_country.max()\n",
    "\n",
    "average_revenue_per_country = orders_file.groupby('Site_Country')['Revenue_in_usd'].mean()\n",
    "\n",
    "highest_revenue_country = average_revenue_per_country.idxmax()\n",
    "highest_average_revenue = average_revenue_per_country.max()\n",
    "\n",
    "print(f\"The country with the highest average amount of payment is: {highest_order_country} with  {highest_average_order:.2f}USD\")\n",
    "print(f\"The country with the highest average revenue is: {highest_revenue_country} with an average revenue of {highest_average_revenue:.2f}USD\")\n",
    "\n",
    "\n",
    "top_10_order_countries = average_price_per_country.sort_values(ascending=False).head(10)\n",
    "\n",
    "plt.figure(figsize=(10, 6))\n",
    "top_10_order_countries.plot(kind='bar', color='skyblue')\n",
    "\n",
    "plt.title('Top 10 Countries with the Highest order amount', fontsize=16)\n",
    "plt.xlabel('Country', fontsize=12)\n",
    "plt.ylabel('Order amount (USD)', fontsize=12)\n",
    "\n",
    "\n",
    "plt.xticks(rotation=45, ha='right')\n",
    "plt.tight_layout()  \n",
    "plt.show()\n"
   ]
  },
  {
   "cell_type": "code",
   "execution_count": null,
   "metadata": {
    "cell_type": "solution"
   },
   "outputs": [],
   "source": [
    "orders_file['Brand'].value_counts()"
   ]
  },
  {
   "cell_type": "code",
   "execution_count": null,
   "metadata": {
    "cell_type": "solution"
   },
   "outputs": [],
   "source": [
    "\n",
    "orders_file['Customer_Group_Type'].value_counts()"
   ]
  },
  {
   "cell_type": "code",
   "execution_count": null,
   "metadata": {
    "cell_type": "solution"
   },
   "outputs": [],
   "source": [
    "orders_file['client_entry_type'].value_counts()"
   ]
  },
  {
   "cell_type": "code",
   "execution_count": null,
   "metadata": {},
   "outputs": [],
   "source": [
    "\n",
    "orders_file['Device'].value_counts()"
   ]
  },
  {
   "cell_type": "code",
   "execution_count": null,
   "metadata": {},
   "outputs": [],
   "source": [
    "\n",
    "orders_file['Journey_Type_ID'].value_counts()"
   ]
  },
  {
   "cell_type": "code",
   "execution_count": null,
   "metadata": {},
   "outputs": [],
   "source": [
    "\n",
    "plt.figure(figsize=(10, 6))\n",
    "sns.countplot(x='Brand', hue='Customer_Group_Type', data=orders_file)\n",
    "plt.title('Count of Customer Group Types by Brand')\n",
    "plt.xlabel('Brand')\n",
    "plt.ylabel('Count')\n",
    "plt.xticks(rotation=45)\n",
    "plt.show()\n"
   ]
  },
  {
   "cell_type": "code",
   "execution_count": 78,
   "metadata": {},
   "outputs": [],
   "source": [
    "bins = [0, 100, 500, 1000, 5000, float('inf')]  \n",
    "labels = ['Very Low', 'Low', 'Medium', 'High', 'Very High']\n",
    "\n",
    "orders_file['Order_Value_Category'] = pd.cut(\n",
    "    orders_file['Order_Amount_in_usd'], \n",
    "    bins=bins, \n",
    "    labels=labels, \n",
    "    include_lowest=True\n",
    ")\n",
    "\n",
    "cancellation_prob = orders_file.groupby('Order_Value_Category').agg(\n",
    "    Cancellation_Probability=('Is_Canceled', 'mean')\n",
    ").reset_index()\n",
    "\n",
    "print(orders_file[['Order_Value_Category', 'Order_Amount_in_usd']])\n",
    "print(cancellation_prob)\n",
    "\n",
    "\n",
    "plt.figure(figsize=(8, 6))\n",
    "plt.bar(cancellation_prob['Order_Value_Category'], cancellation_prob['Cancellation_Probability'], color='skyblue')\n",
    "plt.xlabel('Order Value Category')\n",
    "plt.ylabel('Cancellation Probability')\n",
    "plt.title('Cancellation Probability by Order Value')\n",
    "plt.xticks(rotation=45)\n",
    "plt.show()\n"
   ]
  },
  {
   "cell_type": "code",
   "execution_count": null,
   "metadata": {},
   "outputs": [],
   "source": [
    "origin_dest_counts = orders_file.groupby(['Origin_Country', 'Destination_Country','Site_Country']).size().reset_index(name='Count')\n",
    "\n",
    "sorted_origin_dest = origin_dest_counts.sort_values(by='Count', ascending=False)\n",
    "\n",
    "top_10_origin_dest = sorted_origin_dest.head(10)\n",
    "\n",
    "print(top_10_origin_dest)\n",
    "\n",
    "plt.figure(figsize=(10, 6))\n",
    "sns.barplot(data=top_10_origin_dest, x='Count', y='Origin_Country', hue='Destination_Country')\n",
    "plt.title('Top 10 Most Common Origin-Destination Pairs')\n",
    "plt.xlabel('Count')\n",
    "plt.ylabel('Origin Country')\n",
    "plt.show()"
   ]
  },
  {
   "cell_type": "code",
   "execution_count": null,
   "metadata": {},
   "outputs": [],
   "source": [
    "filtered_orders = orders_file[orders_file['Origin_Country'] != orders_file['Destination_Country']]\n",
    "\n",
    "origin_dest_counts = filtered_orders.groupby(['Origin_Country', 'Destination_Country', 'Site_Country']).size().reset_index(name='Count')\n",
    "\n",
    "sorted_origin_dest = origin_dest_counts.sort_values(by='Count', ascending=False)\n",
    "\n",
    "top_10_origin_dest = sorted_origin_dest.head(10)\n",
    "\n",
    "print(top_10_origin_dest)\n",
    "\n",
    "plt.figure(figsize=(10, 6))\n",
    "sns.barplot(data=top_10_origin_dest, x='Count', y='Origin_Country', hue='Destination_Country')\n",
    "plt.title('Top 10 Most Common Origin-Destination Pairs (Excluding Same-Origin Destinations)')\n",
    "plt.xlabel('Count')\n",
    "plt.ylabel('Origin Country')\n",
    "plt.show()\n"
   ]
  },
  {
   "cell_type": "code",
   "execution_count": null,
   "metadata": {},
   "outputs": [],
   "source": [
    "orders_file['Journey_Type_ID'].unique()"
   ]
  },
  {
   "cell_type": "code",
   "execution_count": null,
   "metadata": {},
   "outputs": [],
   "source": [
    "uniq_per_id = orders_file.groupby('order_id')['PNR'].nunique()\n",
    "\n",
    "ids_with_more_name = uniq_per_id[uniq_per_id>1]\n",
    "\n",
    "if ids_with_more_name.empty:\n",
    "    print(\"Each id belongs to only one name.\")\n",
    "else:\n",
    "    print('The following ids are associated with multiple names:')\n",
    "    print(ids_with_more_name)"
   ]
  },
  {
   "cell_type": "code",
   "execution_count": 84,
   "metadata": {},
   "outputs": [],
   "source": [
    "df = orders_file[orders_file['Order_Amount_in_usd'] > 0].copy()\n",
    "df['ratio_revenue_to_total'] = (df['Revenue_in_usd'] / df['Order_Amount_in_usd']) * 100\n",
    "average_ratio = df['ratio_revenue_to_total'].mean()\n",
    "\n",
    "print(f\"{average_ratio:.2f}%\")"
   ]
  },
  {
   "cell_type": "code",
   "execution_count": null,
   "metadata": {},
   "outputs": [],
   "source": [
    "destination_analysis = df.groupby('Destination_Country')['ratio_revenue_to_total'].mean().reset_index()\n",
    "destination_analysis = destination_analysis.sort_values(by='ratio_revenue_to_total', ascending=False)\n",
    "\n",
    "origin_analysis = df.groupby('Origin_Country')['ratio_revenue_to_total'].mean().reset_index()\n",
    "origin_analysis = origin_analysis.sort_values(by='ratio_revenue_to_total', ascending=False)\n",
    "\n",
    "customer_group_analysis = df.groupby('Customer_Group_Type')['ratio_revenue_to_total'].mean().reset_index()\n",
    "customer_group_analysis = customer_group_analysis.sort_values(by='ratio_revenue_to_total', ascending=False)\n",
    "\n",
    "print(\"Top Destination Countries by Revenue-to-Total Ratio:\")\n",
    "print(destination_analysis.head())\n",
    "\n",
    "print(\"\\nTop Origin Countries by Revenue-to-Total Ratio:\")\n",
    "print(origin_analysis.head())\n",
    "\n",
    "print(\"\\nTop Customer Group Types by Revenue-to-Total Ratio:\")\n",
    "print(customer_group_analysis.head())"
   ]
  },
  {
   "cell_type": "code",
   "execution_count": null,
   "metadata": {},
   "outputs": [],
   "source": [
    "\n",
    "sns.set(style=\"whitegrid\")\n",
    "\n",
    "plt.figure(figsize=(12, 6))\n",
    "sns.barplot(data=destination_analysis.head(10), x='ratio_revenue_to_total', y='Destination_Country', palette='viridis')\n",
    "plt.title('Top 10 Destination Countries by Revenue-to-Total Ratio', fontsize=16)\n",
    "plt.xlabel('Revenue-to-Total Ratio', fontsize=12)\n",
    "plt.ylabel('Destination Country', fontsize=12)\n",
    "plt.tight_layout()\n",
    "plt.show()\n",
    "\n",
    "plt.figure(figsize=(12, 6))\n",
    "sns.barplot(data=origin_analysis.head(10), x='ratio_revenue_to_total', y='Origin_Country', palette='plasma')\n",
    "plt.title('Top 10 Origin Countries by Revenue-to-Total Ratio', fontsize=16)\n",
    "plt.xlabel('Revenue-to-Total Ratio', fontsize=12)\n",
    "plt.ylabel('Origin Country', fontsize=12)\n",
    "plt.tight_layout()\n",
    "plt.show()\n",
    "\n",
    "plt.figure(figsize=(12, 6))\n",
    "sns.barplot(data=customer_group_analysis.head(10), x='ratio_revenue_to_total', y='Customer_Group_Type', palette='coolwarm')\n",
    "plt.title('Top 10 Customer Group Types by Revenue-to-Total Ratio', fontsize=16)\n",
    "plt.xlabel('Revenue-to-Total Ratio', fontsize=12)\n",
    "plt.ylabel('Customer Group Type', fontsize=12)\n",
    "plt.tight_layout()\n",
    "plt.show()\n"
   ]
  },
  {
   "cell_type": "code",
   "execution_count": null,
   "metadata": {},
   "outputs": [],
   "source": [
    "destination_analysis.head(5).plot(\n",
    "    x='Destination_Country', y='ratio_revenue_to_total', kind='bar', legend=False, title=\"Top Destination Countries\"\n",
    ")\n",
    "plt.ylabel('Revenue-to-Total Ratio %')\n",
    "plt.show()\n",
    "\n",
    "\n",
    "customer_group_analysis.plot(\n",
    "    x='Customer_Group_Type', y='ratio_revenue_to_total', kind='bar', legend=False, title=\"Customer Group Types\"\n",
    ")\n",
    "plt.ylabel('Revenue-to-Total Ratio %')\n",
    "plt.show()\n"
   ]
  },
  {
   "cell_type": "code",
   "execution_count": 26,
   "metadata": {},
   "outputs": [],
   "source": [
    "canceled_df = orders_file[orders_file['Is_Canceled'] == True].copy()\n",
    "canceled_df['order_created_at'] = pd.to_datetime(canceled_df['order_created_at'])\n",
    "canceled_df['MonthYear'] = canceled_df['order_created_at'].dt.to_period('M')\n",
    "\n",
    "monthly_lost_revenue = canceled_df.groupby('MonthYear')['Revenue_in_usd'].mean().reset_index()\n",
    "monthly_lost_revenue['MonthYear'] = monthly_lost_revenue['MonthYear'].dt.to_timestamp()\n"
   ]
  },
  {
   "cell_type": "code",
   "execution_count": 88,
   "metadata": {},
   "outputs": [],
   "source": [
    "# canceled_df.columns"
   ]
  },
  {
   "cell_type": "code",
   "execution_count": null,
   "metadata": {},
   "outputs": [],
   "source": [
    "plt.figure(figsize=(12, 6))\n",
    "plt.plot(monthly_lost_revenue['MonthYear'], monthly_lost_revenue['Revenue_in_usd'], marker='o', color='red')\n",
    "plt.title(\"Average Lost Revenue Due to Cancellations (Monthly)\", fontsize=16)\n",
    "plt.xlabel(\"Month\", fontsize=12)\n",
    "plt.ylabel(\"Average Lost Revenue\", fontsize=12)\n",
    "plt.grid(True, linestyle='--', alpha=0.6)\n",
    "plt.xticks(rotation=45)\n",
    "plt.tight_layout()\n",
    "plt.show()"
   ]
  },
  {
   "cell_type": "code",
   "execution_count": 90,
   "metadata": {},
   "outputs": [],
   "source": [
    "# orders_file.columns"
   ]
  },
  {
   "cell_type": "code",
   "execution_count": 91,
   "metadata": {},
   "outputs": [],
   "source": [
    "# orders_file['client_entry_type'].unique()"
   ]
  },
  {
   "cell_type": "code",
   "execution_count": 31,
   "metadata": {},
   "outputs": [],
   "source": [
    "def group_device(device):\n",
    "    if device in ['iPad', 'iPod', 'iPhone']:\n",
    "        return 'Apple Devices'\n",
    "    elif device in ['Android Phone', 'Android Tablet']:\n",
    "        return 'Android Devices'\n",
    "    elif device == 'PC':\n",
    "        return 'PC'\n",
    "    elif device == 'BlackBerry':\n",
    "        return 'BlackBerry'\n",
    "    elif device in ['Unknown', 'AnonTablet', 'AnonPhone', 'Application']:\n",
    "        return 'Other'\n",
    "    else:\n",
    "        return 'Uncategorized'"
   ]
  },
  {
   "cell_type": "code",
   "execution_count": 32,
   "metadata": {},
   "outputs": [],
   "source": [
    "orders_file['Device_Group'] = orders_file['Device'].apply(group_device)"
   ]
  },
  {
   "cell_type": "code",
   "execution_count": null,
   "metadata": {},
   "outputs": [],
   "source": [
    "# grouped = orders_file.groupby('Device_Group').agg({\n",
    "#     'Order_Amount_in_usd': ['mean'], \n",
    "#     'Revenue_in_usd': ['mean'], \n",
    "#     # 'Device' : 'sum',\n",
    "#     'client_entry_type': 'sum'\n",
    "#     # 'Is_Canceled': 'mean',\n",
    "#     # 'Is_Changed' : 'mean'\n",
    "# }).reset_index()\n",
    "\n",
    "# grouped.columns = ['Device_Group', 'Avg_Order_Amount', 'Avg_Revenue',  'entry'] #'Canceled', 'Changed'\n",
    "\n",
    "# # grouped['Change_Rate'] = (grouped['Changed'] / grouped['Device_count']) * 100\n",
    "# # grouped['Cancellation_Rate'] = (grouped['Canceled'] / grouped['Device_count']) * 100\n",
    "\n",
    "\n",
    "# grouped\n",
    "\n",
    "group_metrics = orders_file.groupby('Customer_Group_Type').agg(\n",
    "    Total_Orders=('order_id', 'count'),\n",
    "    Total_Cancellations=('Is_Canceled', 'sum'),\n",
    "    Total_Changes=('Is_Changed', 'sum')\n",
    ")\n",
    "\n",
    "\n",
    "group_metrics['Cancellation_Rate'] = (group_metrics['Total_Cancellations'] / group_metrics['Total_Orders']) * 100\n",
    "group_metrics['Change_Rate'] = (group_metrics['Total_Changes'] / group_metrics['Total_Orders']) * 100\n",
    "\n",
    "group_metrics\n"
   ]
  },
  {
   "cell_type": "code",
   "execution_count": null,
   "metadata": {},
   "outputs": [],
   "source": [
    "\n",
    "sns.set(style=\"whitegrid\")\n",
    "\n",
    "fig, axes = plt.subplots(2, 2, figsize=(14, 10))\n",
    "\n",
    "sns.barplot(data=group_metrics, x=group_metrics.index, y='Total_Orders', ax=axes[0, 0], palette='Blues_d')\n",
    "axes[0, 0].set_title('Total Orders by Customer Group Type')\n",
    "axes[0, 0].set_xlabel('Customer Group Type')\n",
    "axes[0, 0].set_ylabel('Total Orders')\n",
    "\n",
    "sns.barplot(data=group_metrics, x=group_metrics.index, y='Total_Cancellations', ax=axes[0, 1], palette='Reds_d')\n",
    "axes[0, 1].set_title('Total Cancellations by Customer Group Type')\n",
    "axes[0, 1].set_xlabel('Customer Group Type')\n",
    "axes[0, 1].set_ylabel('Total Cancellations')\n",
    "\n",
    "sns.barplot(data=group_metrics, x=group_metrics.index, y='Cancellation_Rate', ax=axes[1, 0], palette='Purples_d')\n",
    "axes[1, 0].set_title('Cancellation Rate by Customer Group Type')\n",
    "axes[1, 0].set_xlabel('Customer Group Type')\n",
    "axes[1, 0].set_ylabel('Cancellation Rate (%)')\n",
    "\n",
    "sns.barplot(data=group_metrics, x=group_metrics.index, y='Change_Rate', ax=axes[1, 1], palette='Greens_d')\n",
    "axes[1, 1].set_title('Change Rate by Customer Group Type')\n",
    "axes[1, 1].set_xlabel('Customer Group Type')\n",
    "axes[1, 1].set_ylabel('Change Rate (%)')\n",
    "\n",
    "plt.tight_layout()\n",
    "plt.show()\n"
   ]
  },
  {
   "cell_type": "code",
   "execution_count": 94,
   "metadata": {},
   "outputs": [],
   "source": [
    "booking_system_dist = orders_file.groupby(['Device_Group', 'booking_system_source_type']).size().unstack(fill_value=0)\n",
    "booking_system_percentage = booking_system_dist.div(booking_system_dist.sum(axis=1), axis=0) * 100\n",
    "\n",
    "booking_system_percentage"
   ]
  },
  {
   "cell_type": "code",
   "execution_count": 95,
   "metadata": {},
   "outputs": [],
   "source": [
    "booking_system_dist.plot(kind='bar', stacked=True, figsize=(10, 6))\n",
    "\n",
    "plt.title('Booking System Distribution by Device Group', fontsize=16)\n",
    "plt.xlabel('Device Group', fontsize=12)\n",
    "plt.ylabel('Number of Bookings', fontsize=12)\n",
    "plt.xticks(rotation=45, fontsize=10)\n",
    "plt.yticks(fontsize=10)\n",
    "plt.legend(title='Booking System', bbox_to_anchor=(1.05, 1), loc='upper left', fontsize=10)\n",
    "plt.show()"
   ]
  },
  {
   "cell_type": "code",
   "execution_count": null,
   "metadata": {},
   "outputs": [],
   "source": [
    "group_metrics = orders_file.groupby('Device_Group').agg(\n",
    "    Total_Orders=('order_id', 'count'),\n",
    "    Total_Cancellations=('Is_Canceled', 'sum'),\n",
    "    Total_Changes=('Is_Changed', 'sum')\n",
    ")\n",
    "\n",
    "\n",
    "group_metrics['Cancellation_Rate'] = (group_metrics['Total_Cancellations'] / group_metrics['Total_Orders']) * 100\n",
    "group_metrics['Change_Rate'] = (group_metrics['Total_Changes'] / group_metrics['Total_Orders']) * 100\n",
    "\n",
    "group_metrics\n"
   ]
  },
  {
   "cell_type": "code",
   "execution_count": null,
   "metadata": {},
   "outputs": [],
   "source": []
  }
 ],
 "metadata": {
  "kernelspec": {
   "display_name": "Python 3",
   "language": "python",
   "name": "python3"
  },
  "language_info": {
   "codemirror_mode": {
    "name": "ipython",
    "version": 3
   },
   "file_extension": ".py",
   "mimetype": "text/x-python",
   "name": "python",
   "nbconvert_exporter": "python",
   "pygments_lexer": "ipython3",
   "version": "3.13.0"
  }
 },
 "nbformat": 4,
 "nbformat_minor": 4
}
