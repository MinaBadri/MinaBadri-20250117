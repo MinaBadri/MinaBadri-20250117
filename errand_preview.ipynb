{
 "cells": [
  {
   "cell_type": "code",
   "execution_count": 1,
   "metadata": {},
   "outputs": [],
   "source": [
    "import numpy as np\n",
    "import pandas as pd\n",
    "import matplotlib.pyplot as plt\n",
    "import seaborn as sns"
   ]
  },
  {
   "cell_type": "markdown",
   "metadata": {},
   "source": [
    "### Reading the file"
   ]
  },
  {
   "cell_type": "code",
   "execution_count": 14,
   "metadata": {},
   "outputs": [],
   "source": [
    "errand_df = pd.read_parquet('Data/errands.parquet')\n",
    "errand_df.head()\n"
   ]
  },
  {
   "cell_type": "code",
   "execution_count": null,
   "metadata": {},
   "outputs": [],
   "source": [
    "errand_df.columns "
   ]
  },
  {
   "cell_type": "markdown",
   "metadata": {},
   "source": [
    "It seems there are errands that have been run as a test. There is no documentation on them. Relying on this understanding, drop the rows that are test errands"
   ]
  },
  {
   "cell_type": "code",
   "execution_count": 4,
   "metadata": {},
   "outputs": [],
   "source": [
    "errand_df = errand_df[errand_df['is_test_errand'] != 1]\n"
   ]
  },
  {
   "cell_type": "code",
   "execution_count": 16,
   "metadata": {},
   "outputs": [],
   "source": [
    "X = errand_df['errand_category'].unique().tolist()\n",
    "print(X)"
   ]
  },
  {
   "cell_type": "code",
   "execution_count": 6,
   "metadata": {},
   "outputs": [],
   "source": [
    "errand_df['created'] = pd.to_datetime(errand_df['created'])\n",
    "errand_df['YearMonth'] = errand_df['created'].dt.to_period('M')\n",
    "price_index = errand_df.columns.get_loc('created')\n",
    "errand_df.insert(price_index + 1, 'YearMonth', errand_df.pop('YearMonth'))\n",
    "# errand_df.drop('created', axis=1)\n",
    "\n",
    "\n",
    "\n",
    "\n"
   ]
  },
  {
   "cell_type": "code",
   "execution_count": 17,
   "metadata": {},
   "outputs": [],
   "source": [
    "category_counts = errand_df['errand_category'].value_counts()\n",
    "total_errands = category_counts.sum()\n",
    "\n",
    "threshold = 0.02 * total_errands\n",
    "low_frequency_categories = category_counts[category_counts < threshold].index\n",
    "\n",
    "\n",
    "errand_df['errand_category'] = errand_df['errand_category'].replace(low_frequency_categories, 'Other')\n",
    "category_trends = errand_df.groupby(['YearMonth', 'errand_category']).size().reset_index(name='Count')\n",
    "\n",
    "pivot_data = category_trends.pivot(index='YearMonth', columns='errand_category', values='Count').fillna(0)\n",
    "\n",
    "\n",
    "\n",
    "pivot_data.plot(kind='line', figsize=(10, 6), marker='o')\n",
    "plt.title('Errand Category Trends Over Time')\n",
    "plt.xlabel('Time (Year-Month)')\n",
    "plt.ylabel('Count of Errands')\n",
    "plt.legend(title='Errand Category', loc= 'upper right')\n",
    "plt.grid(True)\n",
    "\n",
    "plt.show()"
   ]
  },
  {
   "cell_type": "markdown",
   "metadata": {},
   "source": [
    "The most common errand type within each errand category"
   ]
  },
  {
   "cell_type": "code",
   "execution_count": 18,
   "metadata": {},
   "outputs": [],
   "source": [
    "type_counts = errand_df.groupby(['errand_category', 'errand_type']).size().reset_index(name='Count')\n",
    "\n",
    "most_common_types = type_counts.loc[type_counts.groupby('errand_category')['Count'].idxmax()]\n",
    "print(most_common_types)\n"
   ]
  },
  {
   "cell_type": "code",
   "execution_count": null,
   "metadata": {},
   "outputs": [],
   "source": [
    "\n",
    "channel_prefs = errand_df.groupby(['errand_category', 'errand_channel']).size().reset_index(name='Count')\n",
    "\n",
    "pivot_data = channel_prefs.pivot(index='errand_category', columns='errand_channel', values='Count').fillna(0)\n",
    "\n",
    "pivot_normalized = pivot_data.div(pivot_data.sum(axis=1), axis=0)\n",
    "\n",
    "plt.figure(figsize=(10, 6))\n",
    "sns.heatmap(pivot_normalized, annot=True, cmap=\"YlGnBu\", fmt=\".2f\", cbar_kws={'label': 'Proportion'})\n",
    "plt.title('Channel Preferences by Errand Category')\n",
    "plt.xlabel('Errand Channel')\n",
    "plt.ylabel('Errand Category')\n",
    "plt.tight_layout()\n",
    "plt.show()\n"
   ]
  },
  {
   "cell_type": "code",
   "execution_count": null,
   "metadata": {},
   "outputs": [],
   "source": [
    "errand_df['Hour'] = errand_df['created'].dt.hour\n",
    "errand_df['Day_of_Week'] = errand_df['created'].dt.day_name()\n",
    "errand_df['Month'] = errand_df['created'].dt.month\n",
    "errand_df['Year'] = errand_df['created'].dt.year\n",
    "\n",
    "hourly_trend = errand_df.groupby('Hour').size()\n",
    "\n",
    "plt.figure(figsize=(10, 6))\n",
    "hourly_trend.plot(kind='bar', color='skyblue', alpha=0.8)\n",
    "plt.title('Customer Service Demand by Hour', fontsize=14)\n",
    "plt.xlabel('Hour of Day', fontsize=12)\n",
    "plt.ylabel('Number of Errands', fontsize=12)\n",
    "plt.xticks(rotation=0)\n",
    "plt.grid(axis='y', linestyle='--', alpha=0.6)\n",
    "plt.tight_layout()\n",
    "plt.show()\n",
    "\n",
    "weekday_trend = errand_df.groupby('Day_of_Week').size()\n",
    "\n",
    "\n",
    "plt.figure(figsize=(10, 6))\n",
    "weekday_trend.reindex(['Monday', 'Tuesday', 'Wednesday', 'Thursday', 'Friday', 'Saturday', 'Sunday']).plot(kind='bar', color='lightcoral', alpha=0.8)\n",
    "plt.title('Customer Service Demand by Day of the Week', fontsize=14)\n",
    "plt.xlabel('Day of Week', fontsize=12)\n",
    "plt.ylabel('Number of Errands', fontsize=12)\n",
    "plt.xticks(rotation=0)\n",
    "plt.grid(axis='y', linestyle='--', alpha=0.6)\n",
    "plt.tight_layout()\n",
    "plt.show()"
   ]
  },
  {
   "cell_type": "code",
   "execution_count": null,
   "metadata": {},
   "outputs": [],
   "source": [
    "action_counts = errand_df['errand_action'].value_counts()\n",
    "\n",
    "top_actions = action_counts.head(10)\n",
    "print(top_actions)"
   ]
  },
  {
   "cell_type": "code",
   "execution_count": null,
   "metadata": {},
   "outputs": [],
   "source": [
    "most_frequent_action = top_actions.index[0] \n",
    "filtered_df = errand_df[errand_df['errand_action'] == most_frequent_action]\n",
    "\n",
    "distribution = filtered_df['errand_category'].value_counts()\n",
    "print(distribution)"
   ]
  },
  {
   "cell_type": "code",
   "execution_count": null,
   "metadata": {},
   "outputs": [],
   "source": []
  },
  {
   "cell_type": "code",
   "execution_count": 23,
   "metadata": {},
   "outputs": [],
   "source": [
    "action_counts = errand_df.groupby([\"errand_category\", \"errand_action\"]).size().reset_index(name=\"Count\")\n",
    "most_frequent_action = action_counts.loc[action_counts.groupby(\"errand_category\")[\"Count\"].idxmax()]\n",
    "\n",
    "\n",
    "print(\"Most Frequent Errand Action by Category:\")\n",
    "print(most_frequent_action)\n"
   ]
  },
  {
   "cell_type": "code",
   "execution_count": null,
   "metadata": {},
   "outputs": [],
   "source": []
  }
 ],
 "metadata": {
  "kernelspec": {
   "display_name": "Python 3",
   "language": "python",
   "name": "python3"
  },
  "language_info": {
   "codemirror_mode": {
    "name": "ipython",
    "version": 3
   },
   "file_extension": ".py",
   "mimetype": "text/x-python",
   "name": "python",
   "nbconvert_exporter": "python",
   "pygments_lexer": "ipython3",
   "version": "3.13.0"
  }
 },
 "nbformat": 4,
 "nbformat_minor": 4
}
