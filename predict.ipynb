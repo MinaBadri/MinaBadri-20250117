{
 "cells": [
  {
   "cell_type": "code",
   "execution_count": 1,
   "metadata": {},
   "outputs": [],
   "source": [
    "import pandas as pd"
   ]
  },
  {
   "cell_type": "code",
   "execution_count": 2,
   "metadata": {},
   "outputs": [],
   "source": [
    "errands_df = pd.read_parquet('Data/errands.parquet')\n",
    "orders_df = pd.read_parquet('Data/orders.parquet')"
   ]
  },
  {
   "cell_type": "code",
   "execution_count": 7,
   "metadata": {},
   "outputs": [
    {
     "data": {
      "text/plain": [
       "Index(['order_id', 'PNR', 'order_created_at', 'booking_system', 'Site_Country',\n",
       "       'Brand', 'Order_Amount', 'currency', 'Revenue', 'Partner',\n",
       "       'Customer_Group_Type', 'Device', 'client_entry_type',\n",
       "       'booking_system_source_type', 'Origin_Country', 'Destination_Country',\n",
       "       'Journey_Type_ID', 'Is_Changed', 'Is_Canceled', 'cancel_reason',\n",
       "       'change_reason'],\n",
       "      dtype='object')"
      ]
     },
     "execution_count": 7,
     "metadata": {},
     "output_type": "execute_result"
    }
   ],
   "source": [
    "orders_df.columns"
   ]
  },
  {
   "cell_type": "code",
   "execution_count": 6,
   "metadata": {},
   "outputs": [
    {
     "data": {
      "text/plain": [
       "Index(['order_id', 'errand_id', 'created', 'errand_category', 'errand_type',\n",
       "       'errand_action', 'errand_channel', 'is_test_errand'],\n",
       "      dtype='object')"
      ]
     },
     "execution_count": 6,
     "metadata": {},
     "output_type": "execute_result"
    }
   ],
   "source": [
    "errands_df.columns"
   ]
  },
  {
   "cell_type": "code",
   "execution_count": 4,
   "metadata": {},
   "outputs": [],
   "source": [
    "errands_df['order_number'] = errands_df['order_number'].apply(lambda x: int(x, 36))\n",
    "errands_df = errands_df.rename(columns={'order_number' : 'order_id'})"
   ]
  },
  {
   "cell_type": "code",
   "execution_count": 5,
   "metadata": {},
   "outputs": [],
   "source": [
    "merged_df = pd.merge(orders_df, errands_df, on='order_id', how='left')"
   ]
  },
  {
   "cell_type": "code",
   "execution_count": 8,
   "metadata": {},
   "outputs": [],
   "source": [
    "currency_name_to_code = {\n",
    "    'Euro': 'EUR',\n",
    "    'Australian Dollar': 'AUD',\n",
    "    'Brazilian Real': 'BRL',\n",
    "    'US Dollar': 'USD',\n",
    "    'Danish Krone': 'DKK',\n",
    "    'Saudi Riyal': 'SAR',\n",
    "    'Mexican Peso': 'MXN',\n",
    "    'Pound Sterling': 'GBP',\n",
    "    'Zloty': 'PLN',\n",
    "    'Norwegian Krone': 'NOK',\n",
    "    'Canadian Dollar': 'CAD',\n",
    "    'United Arab Emirates dirham': 'AED',\n",
    "    'Swedish Krona': 'SEK',\n",
    "    'Chilean Peso': 'CLP',\n",
    "    'Peso Uruguayo': 'UYU',\n",
    "    'Nuevo Sol Peru': 'PEN',\n",
    "    'South Korean Won': 'KRW',\n",
    "    'Malaysian Ringgit': 'MYR',\n",
    "    'Argentine Peso': 'ARS',\n",
    "    'Thai Baht': 'THB',\n",
    "    'Czech Koruna': 'CZK',\n",
    "    'Colombian Peso Colombia': 'COP',\n",
    "    'Kuwaiti Dinar': 'KWD',\n",
    "    'Swiss Franc': 'CHF',\n",
    "    'Hryvnia Ukraine': 'UAH',\n",
    "    'South African Rand': 'ZAR',\n",
    "    'Japanese yen': 'JPY',\n",
    "    'Jordanian Dinar': 'JOD',\n",
    "    'Bahraini Dinar': 'BHD',\n",
    "    'New Zealand Dollar': 'NZD',\n",
    "    'Indian Rupee': 'INR',\n",
    "    'Egyptian Pound': 'EGP',\n",
    "    'Bulgarian Lev': 'BGN',\n",
    "    'Rupiah Indonesia': 'IDR',\n",
    "    'Turkish Lira': 'TRY',\n",
    "    'Qatari Rial': 'QAR',\n",
    "    'Singapore Dollar': 'SGD',\n",
    "    'Hong Kong Dollar': 'HKD',\n",
    "    'Philippine Peso': 'PHP',\n",
    "    'New Taiwan Dollar': 'TWD',\n",
    "    'Rial Omani Oman': 'OMR',\n",
    "    'Forint': 'HUF',\n",
    "    'Yuan Renminbi': 'CNY',\n",
    "    'Vietnamese dong': 'VND',\n",
    "    'Iceland Krona': 'ISK',\n",
    "    'Tenge Kazakhstan': 'KZT',\n",
    "    'Uzbekistan Som': 'UZS'\n",
    "}\n",
    "#Static exchange rate, in actual analysis it has to be updated so it uses API, easy-exchange-rates and forex-python has been tried so far, \n",
    "#Read their documentationss to see why the exchange has problems. \n",
    "exchange_rates_to_usd = {\n",
    "    'USD': 1,\n",
    "    'EUR': 1.08,\n",
    "    'AUD': 0.64,\n",
    "    'BRL': 0.19,\n",
    "    'DKK': 0.14,\n",
    "    'SAR': 0.27,\n",
    "    'MXN': 0.052,\n",
    "    'GBP': 1.37,\n",
    "    'PLN': 0.26,\n",
    "    'NOK': 0.11,\n",
    "    'CAD': 0.75,\n",
    "    'AED': 0.27,\n",
    "    'SEK': 0.095,\n",
    "    'CLP': 0.0012,\n",
    "    'UYU': 0.023,\n",
    "    'PEN': 0.27,\n",
    "    'KRW': 0.00076,\n",
    "    'MYR': 0.23,\n",
    "    'ARS': 0.010,\n",
    "    'THB': 0.032,\n",
    "    'CZK': 0.048,\n",
    "    'COP': 0.00026,\n",
    "    'KWD': 3.28,\n",
    "    'CHF': 1.09,\n",
    "    'UAH': 0.036,\n",
    "    'ZAR': 0.055,\n",
    "    'JPY': 0.0074,\n",
    "    'JOD': 1.41,\n",
    "    'BHD': 2.65,\n",
    "    'NZD': 0.63,\n",
    "    'INR': 0.013,\n",
    "    'EGP': 0.032,\n",
    "    'BGN': 0.58,\n",
    "    'IDR': 0.000066,\n",
    "    'TRY': 0.054,\n",
    "    'QAR': 0.27,\n",
    "    'SGD': 0.74,\n",
    "    'HKD': 0.13,\n",
    "    'PHP': 0.018,\n",
    "    'TWD': 0.032,\n",
    "    'OMR': 2.60,\n",
    "    'HUF': 0.0031,\n",
    "    'CNY': 0.15,\n",
    "    'VND': 0.000043,\n",
    "    'ISK': 0.0075,\n",
    "    'KZT': 0.0023,\n",
    "    'UZS': 0.000091\n",
    "}\n",
    "\n",
    "\n",
    "\n",
    "def convert_prices_to_usd(df):\n",
    "    \n",
    "    df['currency_code'] = df['currency'].map(currency_name_to_code)\n",
    "\n",
    "    currency_index = df.columns.get_loc('currency')  \n",
    "    df.insert(currency_index + 1, 'currency_code', df.pop('currency_code'))\n",
    "\n",
    "    unmapped = df[df['currency_code'].isna()]['currency'].unique()\n",
    "    if len(unmapped) > 0:\n",
    "        print(\"Unmapped currencies:\", unmapped)\n",
    "\n",
    "    \n",
    "    df['Order_Amount_in_usd'] = df.apply(\n",
    "        lambda row: row['Order_Amount'] * exchange_rates_to_usd.get(row['currency_code'], 0) if row['currency_code'] in exchange_rates_to_usd else 0,\n",
    "        axis=1\n",
    "    )\n",
    "    \n",
    "    price_index = df.columns.get_loc('Order_Amount')\n",
    "    df.insert(price_index + 1, 'Order_Amount_in_usd', df.pop('Order_Amount_in_usd'))\n",
    "    df.drop('Order_Amount', axis= 1, inplace = True)\n",
    "\n",
    "    df['Revenue_in_usd'] = df.apply(\n",
    "        lambda row: row['Revenue'] * exchange_rates_to_usd.get(row['currency_code'], 0) if row['currency_code'] in exchange_rates_to_usd else 0,\n",
    "        axis=1\n",
    "    )\n",
    "    \n",
    "    price_index = df.columns.get_loc('Revenue')\n",
    "    df.insert(price_index + 1, 'Revenue_in_usd', df.pop('Revenue_in_usd'))\n",
    "    df.drop('Revenue', axis = 1, inplace = True)\n",
    "\n",
    "    return df\n",
    "\n",
    "\n",
    "merged_df = convert_prices_to_usd(merged_df)\n"
   ]
  },
  {
   "cell_type": "code",
   "execution_count": 9,
   "metadata": {},
   "outputs": [
    {
     "data": {
      "text/plain": [
       "Index(['order_id', 'PNR', 'order_created_at', 'booking_system', 'Site_Country',\n",
       "       'Brand', 'Order_Amount_in_usd', 'currency', 'currency_code',\n",
       "       'Revenue_in_usd', 'Partner', 'Customer_Group_Type', 'Device',\n",
       "       'client_entry_type', 'booking_system_source_type', 'Origin_Country',\n",
       "       'Destination_Country', 'Journey_Type_ID', 'Is_Changed', 'Is_Canceled',\n",
       "       'cancel_reason', 'change_reason', 'errand_id', 'created',\n",
       "       'errand_category', 'errand_type', 'errand_action', 'errand_channel',\n",
       "       'is_test_errand'],\n",
       "      dtype='object')"
      ]
     },
     "execution_count": 9,
     "metadata": {},
     "output_type": "execute_result"
    }
   ],
   "source": [
    "merged_df.columns"
   ]
  },
  {
   "cell_type": "code",
   "execution_count": 12,
   "metadata": {},
   "outputs": [],
   "source": [
    "merged_df = merged_df[merged_df['is_test_errand'] == 0]\n",
    "merged_df = merged_df.drop_duplicates(subset='order_id', keep= False)\n",
    "merged_df = \n"
   ]
  },
  {
   "cell_type": "code",
   "execution_count": null,
   "metadata": {},
   "outputs": [],
   "source": [
    "merged_df['has_errand'] = merged_df['errand_id'].notnull().astype(int)\n"
   ]
  }
 ],
 "metadata": {
  "kernelspec": {
   "display_name": "Python 3",
   "language": "python",
   "name": "python3"
  },
  "language_info": {
   "codemirror_mode": {
    "name": "ipython",
    "version": 3
   },
   "file_extension": ".py",
   "mimetype": "text/x-python",
   "name": "python",
   "nbconvert_exporter": "python",
   "pygments_lexer": "ipython3",
   "version": "3.13.0"
  }
 },
 "nbformat": 4,
 "nbformat_minor": 4
}
