{
 "cells": [
  {
   "cell_type": "code",
   "execution_count": 1,
   "metadata": {},
   "outputs": [],
   "source": [
    "import numpy as np\n",
    "import pandas as pd\n",
    "import matplotlib.pyplot as plt\n",
    "import seaborn as sns\n",
    "from scipy.stats import chi2_contingency, ttest_ind\n",
    "from scipy import stats\n",
    "\n"
   ]
  },
  {
   "cell_type": "code",
   "execution_count": 2,
   "metadata": {},
   "outputs": [],
   "source": [
    "errands_df = pd.read_parquet('Data/errands.parquet')\n",
    "orders_df = pd.read_parquet('Data/orders.parquet')"
   ]
  },
  {
   "cell_type": "code",
   "execution_count": 3,
   "metadata": {},
   "outputs": [],
   "source": [
    "errands_df = errands_df[errands_df['is_test_errand'] != 1]\n"
   ]
  },
  {
   "cell_type": "code",
   "execution_count": 4,
   "metadata": {},
   "outputs": [],
   "source": [
    "currency_name_to_code = {\n",
    "    'Euro': 'EUR',\n",
    "    'Australian Dollar': 'AUD',\n",
    "    'Brazilian Real': 'BRL',\n",
    "    'US Dollar': 'USD',\n",
    "    'Danish Krone': 'DKK',\n",
    "    'Saudi Riyal': 'SAR',\n",
    "    'Mexican Peso': 'MXN',\n",
    "    'Pound Sterling': 'GBP',\n",
    "    'Zloty': 'PLN',\n",
    "    'Norwegian Krone': 'NOK',\n",
    "    'Canadian Dollar': 'CAD',\n",
    "    'United Arab Emirates dirham': 'AED',\n",
    "    'Swedish Krona': 'SEK',\n",
    "    'Chilean Peso': 'CLP',\n",
    "    'Peso Uruguayo': 'UYU',\n",
    "    'Nuevo Sol Peru': 'PEN',\n",
    "    'South Korean Won': 'KRW',\n",
    "    'Malaysian Ringgit': 'MYR',\n",
    "    'Argentine Peso': 'ARS',\n",
    "    'Thai Baht': 'THB',\n",
    "    'Czech Koruna': 'CZK',\n",
    "    'Colombian Peso Colombia': 'COP',\n",
    "    'Kuwaiti Dinar': 'KWD',\n",
    "    'Swiss Franc': 'CHF',\n",
    "    'Hryvnia Ukraine': 'UAH',\n",
    "    'South African Rand': 'ZAR',\n",
    "    'Japanese yen': 'JPY',\n",
    "    'Jordanian Dinar': 'JOD',\n",
    "    'Bahraini Dinar': 'BHD',\n",
    "    'New Zealand Dollar': 'NZD',\n",
    "    'Indian Rupee': 'INR',\n",
    "    'Egyptian Pound': 'EGP',\n",
    "    'Bulgarian Lev': 'BGN',\n",
    "    'Rupiah Indonesia': 'IDR',\n",
    "    'Turkish Lira': 'TRY',\n",
    "    'Qatari Rial': 'QAR',\n",
    "    'Singapore Dollar': 'SGD',\n",
    "    'Hong Kong Dollar': 'HKD',\n",
    "    'Philippine Peso': 'PHP',\n",
    "    'New Taiwan Dollar': 'TWD',\n",
    "    'Rial Omani Oman': 'OMR',\n",
    "    'Forint': 'HUF',\n",
    "    'Yuan Renminbi': 'CNY',\n",
    "    'Vietnamese dong': 'VND',\n",
    "    'Iceland Krona': 'ISK',\n",
    "    'Tenge Kazakhstan': 'KZT',\n",
    "    'Uzbekistan Som': 'UZS'\n",
    "}\n",
    "#Static exchange rate, in actual analysis it has to be updated so it uses API, easy-exchange-rates and forex-python has been tried so far, \n",
    "#Read their documentationss to see why the exchange has problems. \n",
    "exchange_rates_to_usd = {\n",
    "    'USD': 1,\n",
    "    'EUR': 1.08,\n",
    "    'AUD': 0.64,\n",
    "    'BRL': 0.19,\n",
    "    'DKK': 0.14,\n",
    "    'SAR': 0.27,\n",
    "    'MXN': 0.052,\n",
    "    'GBP': 1.37,\n",
    "    'PLN': 0.26,\n",
    "    'NOK': 0.11,\n",
    "    'CAD': 0.75,\n",
    "    'AED': 0.27,\n",
    "    'SEK': 0.095,\n",
    "    'CLP': 0.0012,\n",
    "    'UYU': 0.023,\n",
    "    'PEN': 0.27,\n",
    "    'KRW': 0.00076,\n",
    "    'MYR': 0.23,\n",
    "    'ARS': 0.010,\n",
    "    'THB': 0.032,\n",
    "    'CZK': 0.048,\n",
    "    'COP': 0.00026,\n",
    "    'KWD': 3.28,\n",
    "    'CHF': 1.09,\n",
    "    'UAH': 0.036,\n",
    "    'ZAR': 0.055,\n",
    "    'JPY': 0.0074,\n",
    "    'JOD': 1.41,\n",
    "    'BHD': 2.65,\n",
    "    'NZD': 0.63,\n",
    "    'INR': 0.013,\n",
    "    'EGP': 0.032,\n",
    "    'BGN': 0.58,\n",
    "    'IDR': 0.000066,\n",
    "    'TRY': 0.054,\n",
    "    'QAR': 0.27,\n",
    "    'SGD': 0.74,\n",
    "    'HKD': 0.13,\n",
    "    'PHP': 0.018,\n",
    "    'TWD': 0.032,\n",
    "    'OMR': 2.60,\n",
    "    'HUF': 0.0031,\n",
    "    'CNY': 0.15,\n",
    "    'VND': 0.000043,\n",
    "    'ISK': 0.0075,\n",
    "    'KZT': 0.0023,\n",
    "    'UZS': 0.000091\n",
    "}\n",
    "\n",
    "\n",
    "\n",
    "def convert_prices_to_usd(df):\n",
    "    \n",
    "    df['currency_code'] = df['currency'].map(currency_name_to_code)\n",
    "\n",
    "    currency_index = df.columns.get_loc('currency')  \n",
    "    df.insert(currency_index + 1, 'currency_code', df.pop('currency_code'))\n",
    "\n",
    "    unmapped = df[df['currency_code'].isna()]['currency'].unique()\n",
    "    if len(unmapped) > 0:\n",
    "        print(\"Unmapped currencies:\", unmapped)\n",
    "\n",
    "    \n",
    "    df['Order_Amount_in_usd'] = df.apply(\n",
    "        lambda row: row['Order_Amount'] * exchange_rates_to_usd.get(row['currency_code'], 0) if row['currency_code'] in exchange_rates_to_usd else 0,\n",
    "        axis=1\n",
    "    )\n",
    "    \n",
    "    price_index = df.columns.get_loc('Order_Amount')\n",
    "    df.insert(price_index + 1, 'Order_Amount_in_usd', df.pop('Order_Amount_in_usd'))\n",
    "\n",
    "    df['Revenue_in_usd'] = df.apply(\n",
    "        lambda row: row['Revenue'] * exchange_rates_to_usd.get(row['currency_code'], 0) if row['currency_code'] in exchange_rates_to_usd else 0,\n",
    "        axis=1\n",
    "    )\n",
    "    \n",
    "    price_index = df.columns.get_loc('Revenue')\n",
    "    df.insert(price_index + 1, 'Revenue_in_usd', df.pop('Revenue_in_usd'))\n",
    "\n",
    "    return df\n",
    "\n",
    "\n",
    "orders_df = convert_prices_to_usd(orders_df)"
   ]
  },
  {
   "cell_type": "code",
   "execution_count": 19,
   "metadata": {},
   "outputs": [],
   "source": [
    "orders_df['order_created_at'] = pd.to_datetime(orders_df['order_created_at'])\n",
    "errands_df['created'] = pd.to_datetime(errands_df['created'])#.dt.date\n",
    "errands_df['order_number'] = errands_df['order_number'].apply(lambda x: int(x, 36))\n",
    "errands_df = errands_df.rename(columns={'order_number' : 'order_id'})"
   ]
  },
  {
   "cell_type": "code",
   "execution_count": 6,
   "metadata": {},
   "outputs": [],
   "source": [
    "merged_df = pd.merge(orders_df, errands_df, on='order_id', how='inner')"
   ]
  },
  {
   "cell_type": "code",
   "execution_count": 7,
   "metadata": {},
   "outputs": [],
   "source": [
    "merged_df['order_created_at'] = pd.to_datetime(merged_df['order_created_at'])#.dt.date\n",
    "merged_df['created'] = pd.to_datetime(merged_df['created'])#.dt.date\n",
    "\n",
    "# date_columns = ['created', 'order_created_at']\n",
    "\n",
    "# for col in date_columns:\n",
    "#     merged_df[col] = pd.to_datetime(merged_df[col]) \n",
    "#     merged_df[f'{col}_YearMonth'] = merged_df[col].dt.to_period('M')\n",
    "    \n",
    "#     # Get the index of the original column and move the new column\n",
    "#     col_index = merged_df.columns.get_loc(col)\n",
    "#     merged_df.insert(col_index + 1, f'{col}_YearMonth', merged_df.pop(f'{col}_YearMonth'))\n",
    "    \n",
    "    \n",
    "#     merged_df.drop(col, axis=1, inplace=True)"
   ]
  },
  {
   "cell_type": "code",
   "execution_count": null,
   "metadata": {},
   "outputs": [],
   "source": [
    "merged_df['Time_diff'] = ((merged_df['created'] - merged_df['order_created_at']).dt.total_seconds()) / 360*24\n",
    "\n",
    "time_diff_stats = merged_df['Time_diff'].describe()\n",
    "print(time_diff_stats)\n",
    "\n",
    "merged_df['Time_diff'].hist(bins=50)\n",
    "plt.title(\"Distribution of Time Between Order and Errand\")\n",
    "plt.xlabel(\"Time Difference (hours)\")\n",
    "plt.ylabel(\"Frequency\")\n",
    "plt.show()\n",
    "\n"
   ]
  },
  {
   "cell_type": "code",
   "execution_count": 64,
   "metadata": {},
   "outputs": [
    {
     "name": "stdout",
     "output_type": "stream",
     "text": [
      "Top 10 Errand Categories when time difference > 1 week: errand_category\n",
      "2: Cancellation / refund    650562\n",
      "Name: count, dtype: int64\n",
      "Top 10 Errand Categories when time difference < 1 week: errand_category\n",
      "6: Payment questions    1729\n",
      "Name: count, dtype: int64\n",
      "\n",
      "Top 10 Errand Types within each Category when time difference > 1 week: errand_category    errand_type\n",
      "10: Force Majeure  2: Cancel      3503\n",
      "Name: count, dtype: int64\n",
      "\n",
      "Top 10 Errand Types within each Category when time difference < 1 week: errand_category   errand_type                             \n",
      "11: Site support  1. No booking - general ETG site support    32\n",
      "Name: count, dtype: int64\n"
     ]
    }
   ],
   "source": [
    "merged_df['Time_diff_weeks'] = merged_df['Time_diff'] / ( 7) \n",
    "later_df = merged_df[merged_df['Time_diff_weeks'] > 1]\n",
    "\n",
    "top_10_errands = later_df['errand_category'].value_counts().head(1)\n",
    "\n",
    "top_10_errands_detailed = later_df.groupby('errand_category')['errand_type'].value_counts().head(1)\n",
    "\n",
    "filtered_df = merged_df[merged_df['Time_diff_weeks'] < 1]\n",
    "\n",
    "top_10 = filtered_df['errand_category'].value_counts().head(1)\n",
    "\n",
    "top_10_detailed = filtered_df.groupby('errand_category')['errand_type'].value_counts().head(1)\n",
    "\n",
    "print(f\"Top 10 Errand Categories when time difference > 1 week: {top_10_errands}\")\n",
    "print(f\"Top 10 Errand Categories when time difference < 1 week: {top_10}\")\n",
    "\n",
    "print(f\"\\nTop 10 Errand Types within each Category when time difference > 1 week: {top_10_errands_detailed}\")\n",
    "print(f\"\\nTop 10 Errand Types within each Category when time difference < 1 week: {top_10_detailed}\")"
   ]
  },
  {
   "cell_type": "code",
   "execution_count": null,
   "metadata": {},
   "outputs": [],
   "source": [
    "canceled_orders = merged_df[merged_df['Is_Canceled'] == 1]\n",
    "# canceled_orders.plot(kind='box', y='Order_Amount_in_usd', figsize=(6,6))\n",
    "# sns.violinplot(x='Is_Canceled', y='Order_Amount_in_usd', data=merged_df)\n",
    "canceled_orders['Order_Amount_in_usd'].plot(kind='hist', bins=30, figsize=(6,6))\n",
    "\n",
    "\n"
   ]
  },
  {
   "cell_type": "code",
   "execution_count": 11,
   "metadata": {},
   "outputs": [],
   "source": [
    "errand_counts = merged_df.groupby('order_id').size().reset_index(name='errand_Count')\n",
    "\n",
    "orders_with_errands = pd.merge(orders_df, errand_counts, on='order_id', how='left')\n",
    "\n",
    "orders_with_errands['errand_Count'] = orders_with_errands['errand_Count'].fillna(0)"
   ]
  },
  {
   "cell_type": "code",
   "execution_count": 12,
   "metadata": {},
   "outputs": [],
   "source": [
    "# # Define quantiles for categorization\n",
    "# orders_with_errands['Order_Value_Category'] = pd.qcut(\n",
    "#     orders_with_errands['Order_Amount_in_usd'], \n",
    "#     q=3,  # Change to 4 for quartiles or custom thresholds\n",
    "#     labels=['Low', 'Medium', 'High']\n",
    "# )\n",
    "\n",
    "\n",
    "bins = [0, 100, 500, 1000, 5000, float('inf')]  \n",
    "labels = ['Very Low', 'Low', 'Medium', 'High', 'Very High']\n",
    "\n",
    "orders_with_errands['Order_Value_Category'] = pd.cut(\n",
    "    orders_with_errands['Order_Amount_in_usd'], \n",
    "    bins=bins, \n",
    "    labels=labels, \n",
    "    include_lowest=True\n",
    ")"
   ]
  },
  {
   "cell_type": "code",
   "execution_count": 13,
   "metadata": {},
   "outputs": [
    {
     "name": "stderr",
     "output_type": "stream",
     "text": [
      "/var/folders/_6/f4xb86d93znb83vn6wy29k2r0000gn/T/ipykernel_23522/193485439.py:1: FutureWarning: The default of observed=False is deprecated and will be changed to True in a future version of pandas. Pass observed=False to retain current behavior or observed=True to adopt the future default and silence this warning.\n",
      "  value_analysis = orders_with_errands.groupby('Order_Value_Category').agg(\n"
     ]
    }
   ],
   "source": [
    "value_analysis = orders_with_errands.groupby('Order_Value_Category').agg(\n",
    "    Avg_Errand_Count=('errand_Count', 'mean'),\n",
    "    Proportion_With_Errands=('errand_Count', lambda x: (x > 0).mean())\n",
    ").reset_index()\n"
   ]
  },
  {
   "cell_type": "code",
   "execution_count": 14,
   "metadata": {},
   "outputs": [],
   "source": [
    "\n",
    "contingency_table = pd.crosstab(orders_with_errands['Order_Value_Category'], orders_with_errands['errand_Count'] > 0)\n",
    "chi2, p, _, _ = chi2_contingency(contingency_table)\n",
    "\n",
    "with_errands = orders_with_errands[orders_with_errands['errand_Count'] > 0]['Order_Amount_in_usd']\n",
    "without_errands = orders_with_errands[orders_with_errands['errand_Count'] == 0]['Order_Amount_in_usd']\n",
    "t_stat, p_val = ttest_ind(with_errands, without_errands, equal_var=False)\n"
   ]
  },
  {
   "cell_type": "code",
   "execution_count": null,
   "metadata": {},
   "outputs": [],
   "source": [
    "sns.barplot(\n",
    "    data=value_analysis, \n",
    "    x='Order_Value_Category', \n",
    "    y='Proportion_With_Errands'\n",
    ")\n",
    "plt.title('Proportion of Orders with Errands by Order Value')\n",
    "plt.ylabel('Proportion with Errands')\n",
    "plt.xlabel('Order Value Category')\n",
    "plt.show()"
   ]
  },
  {
   "cell_type": "code",
   "execution_count": null,
   "metadata": {},
   "outputs": [],
   "source": []
  },
  {
   "cell_type": "code",
   "execution_count": null,
   "metadata": {},
   "outputs": [],
   "source": [
    "df = pd.merge(errands_df, orders_df, on='order_id', how='left')\n",
    "\n",
    "currency_errands = df.groupby('Site_Country').size().reset_index(name='Errand_Count')\n",
    "\n",
    "orders_per_currency = orders_df.groupby('Site_Country').size().reset_index(name='Order_Count')\n",
    "\n",
    "currency_analysis = pd.merge(currency_errands, orders_per_currency, on='Site_Country', how='left')\n",
    "\n",
    "\n",
    "currency_analysis['Errand_Rate'] = currency_analysis['Errand_Count'] / currency_analysis['Order_Count']\n",
    "\n",
    "currency_analysis_sorted = currency_analysis.sort_values(by='Errand_Rate', ascending=False).head(10)\n",
    "\n",
    "print(currency_analysis_sorted)\n",
    "\n",
    "plt.figure(figsize=(10, 6))\n",
    "plt.bar(currency_analysis_sorted['Site_Country'], currency_analysis_sorted['Errand_Rate'])\n",
    "plt.xlabel('Country')\n",
    "plt.ylabel('Errand Rate (Errands per Order)')\n",
    "plt.title('Errand Rate by Country')\n",
    "plt.xticks(rotation=45)\n",
    "plt.show()"
   ]
  },
  {
   "cell_type": "markdown",
   "metadata": {},
   "source": [
    "### Check if errands are more frequent for certain origin-destination pairs."
   ]
  },
  {
   "cell_type": "code",
   "execution_count": null,
   "metadata": {},
   "outputs": [],
   "source": [
    "errand_counts = merged_df.groupby(['Origin_Country', 'Destination_Country']).size().reset_index(name='Errand_Count')\n",
    "\n",
    "order_counts = orders_df.groupby(['Origin_Country', 'Destination_Country']).size().reset_index(name='Order_Count')\n",
    "merged_counts = pd.merge(errand_counts, order_counts, on=['Origin_Country', 'Destination_Country'])\n",
    "\n",
    "merged_counts['Errand_Per_Order'] = merged_counts['Errand_Count'] / merged_counts['Order_Count']\n",
    "\n",
    "merged_counts_sorted = merged_counts.sort_values(by='Errand_Per_Order', ascending=False)\n",
    "\n",
    "\n",
    "merged_counts_sorted"
   ]
  },
  {
   "cell_type": "code",
   "execution_count": null,
   "metadata": {},
   "outputs": [],
   "source": [
    "journey_types = ['One-way', 'Round-trip', 'OpenJawSingleOrigin', 'MultiStop',\n",
    "       'OpenJawSingleDestination', 'OpenJawDouble'] \n",
    "filtered_df = merged_df[merged_df['Journey_Type_ID'].isin(journey_types)]\n",
    "\n",
    "errands_count = filtered_df.groupby('order_id')['errand_id'].count().reset_index()\n",
    "errands_count.rename(columns={'errand_id': 'Errand_count'}, inplace=True)\n",
    "\n",
    "final_df = pd.merge(filtered_df, errands_count, on='order_id', how='left')\n",
    "\n",
    "journey_analysis = final_df.groupby('Journey_Type_ID')['Errand_count'].mean().reset_index()\n",
    "\n",
    "one_way_data = final_df[final_df['Journey_Type_ID'] == 'One-way']['Errand_count']\n",
    "round_trip_data = final_df[final_df['Journey_Type_ID'] == 'Round-trip']['Errand_count']\n",
    "multi_city_data = final_df[final_df['Journey_Type_ID'] == 'MultiStop']['Errand_count']\n",
    "\n",
    "anova_result = stats.f_oneway(one_way_data, round_trip_data, multi_city_data)\n",
    "\n",
    "print(journey_analysis)\n",
    "print(f\"ANOVA test result: F-statistic={anova_result.statistic}, p-value={anova_result.pvalue}\")\n"
   ]
  },
  {
   "cell_type": "code",
   "execution_count": null,
   "metadata": {},
   "outputs": [],
   "source": [
    "family_changes = merged_df[(merged_df['Customer_Group_Type'] =='FAMILY')]\n",
    "# group_changes = merged_df[(merged_df['Is_Changed'] == 1 ) & (merged_df['Is_Canceled'] == 0 )]\n",
    "\n",
    "# groupchanges = group_changes.groupby(['Customer_Group_Type', 'errand_type']).size().reset_index(name= 'Count').sort_values(by='Count', ascending=False)\n",
    "familyChanges = family_changes.groupby('errand_category').size().reset_index(name= 'Count').sort_values(by='Count', ascending=False)\n",
    "changes_by_category = family_changes.groupby('errand_type').size().reset_index(name='Count').sort_values(by='Count', ascending=False)\n",
    "\n",
    "familyChanges.head()"
   ]
  },
  {
   "cell_type": "code",
   "execution_count": 77,
   "metadata": {},
   "outputs": [],
   "source": [
    "# merged_df['Customer_Group_Type'].unique()"
   ]
  },
  {
   "cell_type": "code",
   "execution_count": null,
   "metadata": {},
   "outputs": [],
   "source": [
    "main_changes = merged_df[(merged_df['Is_Changed'] == 1 ) & (merged_df['Is_Canceled'] == 0 )]\n",
    "changes_by_type = main_changes.groupby('errand_type').size().reset_index(name='Count').sort_values(by='Count', ascending=False)\n",
    "changes_by_category = main_changes.groupby('errand_category').size().reset_index(name='Count').sort_values(by='Count', ascending=False)\n",
    "\n",
    "print(changes_by_type.head())\n",
    "changes_by_category.head()"
   ]
  },
  {
   "cell_type": "code",
   "execution_count": null,
   "metadata": {},
   "outputs": [],
   "source": [
    "main_canceled = merged_df[(merged_df['errand_category'] == '2: Cancellation / refund') ]\n",
    "canceled_by_type = main_canceled.groupby('errand_type').size().reset_index(name='Count').sort_values(by='Count', ascending=False)\n",
    "canceled_by_type.head()\n"
   ]
  },
  {
   "cell_type": "code",
   "execution_count": 80,
   "metadata": {},
   "outputs": [],
   "source": [
    "errand_category = merged_df.groupby('errand_category').size().reset_index(name='Count').sort_values(by='Count', ascending=False)\n",
    "# errand_category\n"
   ]
  },
  {
   "cell_type": "code",
   "execution_count": 81,
   "metadata": {},
   "outputs": [],
   "source": [
    "X = merged_df[merged_df['Is_Canceled'] == 1]\n",
    "# X['errand_category'].unique()"
   ]
  },
  {
   "cell_type": "code",
   "execution_count": null,
   "metadata": {},
   "outputs": [],
   "source": [
    "canceled_value_counts = merged_df['errand_category'].value_counts()\n",
    "threshold = canceled_value_counts.sum() * 0.02\n",
    "canceled_counts = canceled_value_counts[canceled_value_counts > threshold]\n",
    "other_count = merged_df[ ~merged_df['errand_category'].isin(canceled_counts.index)]['errand_category'].count()\n",
    "canceled_counts['Other reasons'] = other_count\n",
    "canceled_counts['Other reasons']\n",
    "\n",
    "plt.figure(figsize=(10, 8))\n",
    "canceled_counts.plot(\n",
    "    kind='pie', \n",
    "    autopct='%1.1f%%',  \n",
    "    startangle=140,     \n",
    "    legend=False\n",
    ")\n",
    "\n",
    "plt.title('Distribution of Errand Categories', fontsize=16)\n",
    "plt.ylabel('') \n",
    "plt.tight_layout()\n",
    "plt.show()\n",
    "\n"
   ]
  },
  {
   "cell_type": "code",
   "execution_count": null,
   "metadata": {},
   "outputs": [],
   "source": [
    "canceled_type_counts = merged_df[merged_df['errand_category'] == '2: Cancellation / refund']['errand_type'].value_counts()\n",
    "\n",
    "threshold = canceled_type_counts.sum() * 0.01\n",
    "canceled_counts = canceled_type_counts[canceled_type_counts > threshold]\n",
    "\n",
    "other_count = merged_df[ ~merged_df['errand_type'].isin(canceled_counts.index)]['errand_type'].count()\n",
    "canceled_counts['Other reasons'] = other_count\n",
    "canceled_counts['Other reasons']\n",
    "canceled_counts.reset_index(name='count')\n",
    "\n"
   ]
  },
  {
   "cell_type": "code",
   "execution_count": 84,
   "metadata": {},
   "outputs": [
    {
     "data": {
      "text/plain": [
       "np.int64(2057427)"
      ]
     },
     "execution_count": 84,
     "metadata": {},
     "output_type": "execute_result"
    }
   ],
   "source": [
    "errand_type_counts = merged_df[merged_df['errand_category'] == '1: Rebooking']['errand_type'].value_counts()\n",
    "\n",
    "threshold = errand_type_counts.sum() * 0.01\n",
    "errand_counts = errand_type_counts[errand_type_counts > threshold]\n",
    "\n",
    "other_count = merged_df[ ~merged_df['errand_type'].isin(errand_counts.index)]['errand_type'].count()\n",
    "errand_counts['Other reasons'] = other_count\n",
    "errand_counts['Other reasons']\n",
    "# errand_counts\n",
    "\n",
    "\n"
   ]
  },
  {
   "cell_type": "code",
   "execution_count": 85,
   "metadata": {},
   "outputs": [
    {
     "data": {
      "text/plain": [
       "np.int64(2228575)"
      ]
     },
     "execution_count": 85,
     "metadata": {},
     "output_type": "execute_result"
    }
   ],
   "source": [
    "errand_type_counts = merged_df[merged_df['errand_category'] == '18: Schedule change']['errand_type'].value_counts()\n",
    "\n",
    "threshold = errand_type_counts.sum() * 0.01\n",
    "errand_counts = errand_type_counts[errand_type_counts > threshold]\n",
    "\n",
    "other_count = merged_df[ ~merged_df['errand_type'].isin(errand_counts.index)]['errand_type'].count()\n",
    "errand_counts['Other reasons'] = other_count\n",
    "errand_counts['Other reasons']\n",
    "# errand_counts"
   ]
  },
  {
   "cell_type": "code",
   "execution_count": null,
   "metadata": {},
   "outputs": [],
   "source": []
  }
 ],
 "metadata": {
  "kernelspec": {
   "display_name": "Python 3",
   "language": "python",
   "name": "python3"
  },
  "language_info": {
   "codemirror_mode": {
    "name": "ipython",
    "version": 3
   },
   "file_extension": ".py",
   "mimetype": "text/x-python",
   "name": "python",
   "nbconvert_exporter": "python",
   "pygments_lexer": "ipython3",
   "version": "3.13.0"
  }
 },
 "nbformat": 4,
 "nbformat_minor": 4
}
